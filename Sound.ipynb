{
 "cells": [
  {
   "cell_type": "code",
   "execution_count": null,
   "metadata": {},
   "outputs": [],
   "source": [
    "import cv2\n",
    "import matplotlib.image as pimg\n",
    "import matplotlib.pyplot as plt\n",
    "import numpy as np\n",
    "import librosa"
   ]
  },
  {
   "cell_type": "code",
   "execution_count": null,
   "metadata": {},
   "outputs": [],
   "source": [
    "import librosa\n",
    "\n",
    "y, sr = librosa.load(\"cardboard1.mp3\", sr=None)\n",
    "y1, sr1 = librosa.load(\"cardboard2.mp3\", sr=None)\n",
    "n_fft = 2048\n",
    "hop_length = 512\n",
    "n_mels = 128"
   ]
  },
  {
   "cell_type": "code",
   "execution_count": null,
   "metadata": {},
   "outputs": [],
   "source": [
    "mel_spectrogram1 = librosa.feature.melspectrogram(y=y1, sr=sr1, n_fft=n_fft, hop_length=hop_length,n_mels=n_mels)"
   ]
  },
  {
   "cell_type": "code",
   "execution_count": null,
   "metadata": {},
   "outputs": [],
   "source": [
    "mel_spectrogram = librosa.feature.melspectrogram(y=y, sr=sr, n_fft=n_fft, hop_length=hop_length,n_mels=n_mels)"
   ]
  },
  {
   "cell_type": "code",
   "execution_count": null,
   "metadata": {},
   "outputs": [],
   "source": [
    "import librosa.display\n",
    "\n",
    "# Convert the power spectrogram to dB scale\n",
    "mel_spectrogram_db = librosa.power_to_db(mel_spectrogram, ref=np.max)\n",
    "\n",
    "# Visualize the Mel spectrogram\n",
    "librosa.display.specshow(mel_spectrogram_db, x_axis='time', y_axis='mel',cmap = 'gray')\n",
    "plt.show()"
   ]
  },
  {
   "cell_type": "code",
   "execution_count": null,
   "metadata": {},
   "outputs": [],
   "source": [
    "import librosa.display\n",
    "\n",
    "# Convert the power spectrogram to dB scale\n",
    "mel_spectrogram_db = librosa.power_to_db(mel_spectrogram, ref=np.max)\n",
    "\n",
    "# Visualize the Mel spectrogram\n",
    "mel_spectrogram_normalized = cv2.normalize(mel_spectrogram_db,None,0,255,cv2.NORM_MINMAX)\n",
    "img = mel_spectrogram_normalized.astype(np.uint8)\n",
    "\n",
    "img = cv2.flip(img,0)\n",
    "cv2.imshow(img)\n",
    "print(img.shape)"
   ]
  },
  {
   "cell_type": "code",
   "execution_count": null,
   "metadata": {},
   "outputs": [],
   "source": [
    "import librosa.display\n",
    "\n",
    "# Convert the power spectrogram to dB scale\n",
    "mel_spectrogram_db1 = librosa.power_to_db(mel_spectrogram1, ref=np.max)\n",
    "\n",
    "# Visualize the Mel spectrogram\n",
    "librosa.display.specshow(mel_spectrogram_db1, x_axis='time', y_axis='mel',cmap = 'gray')\n",
    "plt.show()"
   ]
  },
  {
   "cell_type": "code",
   "execution_count": null,
   "metadata": {},
   "outputs": [],
   "source": [
    "# Convert the power spectrogram to dB scale\n",
    "mel_spectrogram_db1 = librosa.power_to_db(mel_spectrogram1, ref=np.max)\n",
    "\n",
    "# Visualize the Mel spectrogram\n",
    "librosa.display.specshow(mel_spectrogram_db1, x_axis='time', y_axis='mel',cmap = 'gray')\n",
    "plt.show()"
   ]
  },
  {
   "cell_type": "code",
   "execution_count": null,
   "metadata": {},
   "outputs": [],
   "source": [
    "import librosa.display\n",
    "\n",
    "# Convert the power spectrogram to dB scale\n",
    "mel_spectrogram_db1 = librosa.power_to_db(mel_spectrogram1, ref=np.max)\n",
    "\n",
    "# Visualize the Mel spectrogram\n",
    "# librosa.display.specshow(mel_spectrogram_db1, x_axis='time', y_axis='mel',cmap = 'gray')\n",
    "# plt.axis('off')\n",
    "# plt.savefig('plot image2.png')\n",
    "# plt.show()\n",
    "mel_spectrogram_normalized1 = cv2.normalize(mel_spectrogram_db1,None,0,255,cv2.NORM_MINMAX)\n",
    "img1 = mel_spectrogram_normalized1.astype(np.uint8)\n",
    "img1 = cv2.flip(img1,0)\n",
    "cv2.imshow(img1)\n",
    "print(img1.shape)"
   ]
  },
  {
   "cell_type": "code",
   "execution_count": null,
   "metadata": {},
   "outputs": [],
   "source": [
    "# img_0 = np.array(crop_img)\n",
    "# img_1 = np.array(crop_img1)\n",
    "img_0 = np.array(img)\n",
    "img_1 = np.array(img1)"
   ]
  },
  {
   "cell_type": "code",
   "execution_count": null,
   "metadata": {},
   "outputs": [],
   "source": [
    "kernel_size = (13, 13)\n",
    "blurred_image = cv2.GaussianBlur(img_0, kernel_size, 0)\n",
    "alpha = 1\n",
    "blurred_image = cv2.multiply(blurred_image, alpha)\n",
    "# blurred_image = cv2.multiply(blurred_image, alpha)\n",
    "result_image = cv2.subtract(img_0, blurred_image)\n",
    "alpha = 1\n",
    "result_image = cv2.multiply(result_image, alpha)\n",
    "lol, thresh = cv2.threshold(result_image,35,150,cv2.THRESH_BINARY)\n",
    "\n",
    "cv2.imshow(img_0)\n",
    "cv2.imshow( blurred_image)\n",
    "cv2.imshow(result_image)\n",
    "cv2.imshow(thresh)\n",
    "print(result_image.shape)\n",
    "\n",
    "result_image  = thresh\n"
   ]
  },
  {
   "cell_type": "code",
   "execution_count": null,
   "metadata": {},
   "outputs": [],
   "source": [
    "import cv2\n",
    "import numpy as np\n",
    "\n",
    "\n",
    "# result_image = img_0\n",
    "# Apply edge detection using Canny\n",
    "edges = cv2.Canny(result_image, 90, 180)\n",
    "\n",
    "# Convert edges to a three-channel image (BGR)\n",
    "edges_color = cv2.cvtColor(edges, cv2.COLOR_GRAY2BGR)\n",
    "\n",
    "if edges is not None:\n",
    "  print(\"Hi\")\n",
    "# Ensure the dimensions of edges_color match the dimensions of result_image\n",
    "if edges.shape == result_image.shape:\n",
    "    # Overlay the edges on the original image\n",
    "    result_image_with_edges = cv2.addWeighted(result_image, 1, edges, 1, 0)\n",
    "\n",
    "    # Display or save the result\n",
    "    cv2.imshow(result_image_with_edges)\n",
    "    cv2.waitKey(0)\n",
    "    cv2.destroyAllWindows()\n",
    "else:\n",
    "    print(\"Error: Dimensions of edges_color and result_image do not match.\")"
   ]
  },
  {
   "cell_type": "code",
   "execution_count": null,
   "metadata": {},
   "outputs": [],
   "source": [
    "import numpy as np\n",
    "temp = cv2.imread(\"plot image.png\")\n",
    "lines = cv2.HoughLinesP(edges, 1,  np.pi / 180, 0,25,5)\n",
    "cv2.imshow(result_image_with_edges)"
   ]
  },
  {
   "cell_type": "code",
   "execution_count": null,
   "metadata": {},
   "outputs": [],
   "source": [
    "result_image_with_edges = cv2.cvtColor(result_image_with_edges, cv2.COLOR_GRAY2BGR)\n",
    "blank = np.zeros_like(result_image_with_edges)\n",
    "if lines is not None:\n",
    "  horizontal_lines = []\n",
    "  for line in lines:\n",
    "    x1, y1, x2, y2 = line[0]\n",
    "    angle = np.arctan2(y2 - y1, x2 - x1)\n",
    "    # Threshold for vertical lines (adjust as needed)\n",
    "    if abs(angle) < np.pi/4:\n",
    "        horizontal_lines.append(line)\n",
    "    tem2 = np.zeros_like(result_image_with_edges)\n",
    "    for line in horizontal_lines:\n",
    "      x1, y1, x2, y2 = line[0]\n",
    "      # cv2.line(result_image_with_edges, (x1, y1), (x2, y2), (0, 0, 255), 2)\n",
    "      cv2.line(blank, (x1, y1), (x2, y2), (0, 0, 255), 2)\n",
    "# cv2_imshow(temp)\n",
    "cv2.imshow(result_image_with_edges)\n",
    "cv2.imshow(blank)\n",
    "cv2.waitKey(0)\n",
    "cv2.destroyAllWindows()"
   ]
  }
 ],
 "metadata": {
  "language_info": {
   "name": "python"
  },
  "orig_nbformat": 4
 },
 "nbformat": 4,
 "nbformat_minor": 2
}
